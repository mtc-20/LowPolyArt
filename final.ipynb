{
 "cells": [
  {
   "cell_type": "markdown",
   "metadata": {},
   "source": [
    "# Import libraries"
   ]
  },
  {
   "cell_type": "code",
   "execution_count": null,
   "metadata": {},
   "outputs": [],
   "source": [
    "import os\n",
    "import numpy as np\n",
    "from PIL import Image, ImageDraw\n",
    "import matplotlib.pyplot as plt\n",
    "from scipy.spatial import Delaunay\n",
    "from scipy.ndimage import gaussian_filter\n",
    "from collections import defaultdict\n",
    "\n"
   ]
  },
  {
   "cell_type": "code",
   "execution_count": null,
   "metadata": {},
   "outputs": [],
   "source": [
    "from ipywidgets import interact, interactive, fixed\n",
    "import ipywidgets as widgets"
   ]
  },
  {
   "cell_type": "code",
   "execution_count": null,
   "metadata": {},
   "outputs": [],
   "source": [
    "INPUT_FOLDER = \"input_imgs\"\n",
    "OUTPUT_FOLDER = \"lowpoly\"\n",
    "\n",
    "os.makedirs(INPUT_FOLDER, exist_ok=True)\n",
    "os.makedirs(OUTPUT_FOLDER, exist_ok=True)"
   ]
  },
  {
   "cell_type": "code",
   "execution_count": null,
   "metadata": {},
   "outputs": [],
   "source": [
    "im_arr = None\n",
    "points = None\n"
   ]
  },
  {
   "cell_type": "code",
   "execution_count": null,
   "metadata": {},
   "outputs": [],
   "source": [
    "def read_process_input(filename):\n",
    "\tglobal im_arr\n",
    "\tim = Image.open(os.path.join(INPUT_FOLDER, filename))\n",
    "\tim_arr = np.array(im)\n",
    "\t# plt.imshow(im)\n",
    "\tperceptual_weight = np.array([0.2126, 0.7152, 0.0722])\n",
    "\tgrayscale = (im * perceptual_weight).sum(axis=-1)\n",
    "\tplt.figure()\n",
    "\tplt.imshow(grayscale);\n",
    "\n",
    "\tx = gaussian_filter(grayscale, 2, mode=\"reflect\")\n",
    "\tx2 = gaussian_filter(grayscale, 30, mode=\"reflect\")\n",
    "\n",
    "\t# Take the difference, deweight negatives, normalise\n",
    "\tdiff = (x - x2)\n",
    "\tdiff[diff < 0] *= 0.1\n",
    "\tdiff = np.sqrt(np.abs(diff) / diff.max())\n",
    "\n",
    "\t# plt.imshow(diff)\n",
    "\treturn diff, im_arr\n",
    "\n",
    "\t"
   ]
  },
  {
   "cell_type": "code",
   "execution_count": null,
   "metadata": {},
   "outputs": [],
   "source": [
    "def sample_im(ref, n=1000000):\n",
    "\tnp.random.seed(0)\n",
    "\th,w = ref.shape\n",
    "\txs = np.random.randint(0, w, size=n)\n",
    "\tys = np.random.randint(0, h, size=n)\n",
    "\tvalue = ref[ys,xs]\n",
    "\taccept = np.random.random(size=n) < value\n",
    "\tpoints = np.array([xs[accept], ys[accept]])\n",
    "\treturn points.T, value[accept]"
   ]
  },
  {
   "cell_type": "code",
   "execution_count": null,
   "metadata": {},
   "outputs": [],
   "source": [
    "def get_samples(diff):\n",
    "\tsamples, v = sample_im(diff)\n",
    "\tplt.figure()\n",
    "\tplt.scatter(samples[:,0], -samples[:,1], c=v, s=0.2, edgecolors=\"none\", cmap=\"viridis\")\n",
    "\n",
    "\treturn samples"
   ]
  },
  {
   "cell_type": "code",
   "execution_count": null,
   "metadata": {},
   "outputs": [],
   "source": [
    "def get_colour_of_tri(tri, img):\n",
    "\tcolours = defaultdict(lambda: [])\n",
    "\th, w, _ = img.shape\n",
    "\tidcs = np.indices((w,h)).transpose(1,2,0).reshape(-1,2)\n",
    "\tindex = tri.find_simplex(idcs).reshape(w,h)\n",
    "\tfor i in range(0, w):\n",
    "\t\tfor j in range(0,h):\n",
    "\t\t\t# index = tri.find_simplex((i,j))\n",
    "\t\t\tcolours[index[i,j]].append(img[j,i,:])\n",
    "\t\n",
    "\tfor index, array in colours.items():\n",
    "\t\tcolours[int(index)] = np.array(array).mean(axis=0)\n",
    "\treturn colours"
   ]
  },
  {
   "cell_type": "code",
   "execution_count": null,
   "metadata": {},
   "outputs": [],
   "source": [
    "def load_plot_inp(filename):\n",
    "\tprint(\"Normalized and highlighted:\")\n",
    "\tdiff, im_arr = read_process_input(filename)\n",
    "\n",
    "\tprint(\"Scatter plot\")\n",
    "\tsamples = get_samples(diff)\n",
    "\n",
    "\th,w,_ = im_arr.shape\n",
    "\n",
    "\tcorners = np.array([(0,0), (0, h-1), (w-1, 0), (w-1, h-1)])\n",
    "\tpoints = np.concatenate((corners, samples))\n",
    "\n",
    "\treturn points, im_arr, filename\n",
    "\t\n",
    "\t\n",
    "\t"
   ]
  },
  {
   "cell_type": "code",
   "execution_count": null,
   "metadata": {},
   "outputs": [],
   "source": [
    "def generate_art(N, im_arr, points):\n",
    "\tn = 5 + N + 2 * int(N**2)\n",
    "\tprint(n)\n",
    "\n",
    "\ttri = Delaunay(points[:n, :])\n",
    "\tcolours = get_colour_of_tri(tri, im_arr)\n",
    "\n",
    "\th,w, _ = im_arr.shape\n",
    "\tim_out = Image.new(\"RGB\", (w,h))\n",
    "\t# print(im_out.size)\n",
    "\tim_draw = ImageDraw.Draw(im_out)\n",
    "\tfor key,c in colours.items():\n",
    "\t\tt = tri.points[tri.simplices[key]]\n",
    "\t\t# t[:, 0], t[:, 1] = t[:, 1], t[:, 0].copy()\n",
    "\t\t# print(t, len(t))\n",
    "\t\tcolor = tuple(c.astype(np.uint8))\n",
    "\t\tim_draw.polygon(t.flatten().tolist(),fill=color, outline=color)\n",
    "\n",
    "\t# im_out = im_out.resize(im.size)\n",
    "\tplt.imshow(im_out)\n",
    "\t# im_out.save(f'lowpoly/out_{n}.png')\n",
    "\treturn(im_out)"
   ]
  },
  {
   "cell_type": "code",
   "execution_count": null,
   "metadata": {},
   "outputs": [],
   "source": [
    "w = interactive(load_plot_inp, filename=os.listdir(INPUT_FOLDER))"
   ]
  },
  {
   "cell_type": "code",
   "execution_count": null,
   "metadata": {},
   "outputs": [],
   "source": [
    "display(w)"
   ]
  },
  {
   "cell_type": "code",
   "execution_count": null,
   "metadata": {},
   "outputs": [],
   "source": [
    "points, im_arr, inp_name = w.result"
   ]
  },
  {
   "cell_type": "code",
   "execution_count": null,
   "metadata": {},
   "outputs": [],
   "source": [
    "w2 = interactive(generate_art, N=widgets.IntSlider(min=1, max=100, step=1, value=45), im_arr=fixed(im_arr), points=fixed(points))"
   ]
  },
  {
   "cell_type": "code",
   "execution_count": null,
   "metadata": {},
   "outputs": [],
   "source": [
    "display(w2)"
   ]
  },
  {
   "cell_type": "code",
   "execution_count": null,
   "metadata": {},
   "outputs": [],
   "source": [
    "out = w2.result\n",
    "\n",
    "# out.show()"
   ]
  },
  {
   "cell_type": "code",
   "execution_count": null,
   "metadata": {},
   "outputs": [],
   "source": [
    "out"
   ]
  },
  {
   "cell_type": "code",
   "execution_count": null,
   "metadata": {},
   "outputs": [],
   "source": [
    "out.save(f\"{OUTPUT_FOLDER}/{inp_name}\")"
   ]
  },
  {
   "cell_type": "code",
   "execution_count": null,
   "metadata": {},
   "outputs": [],
   "source": []
  }
 ],
 "metadata": {
  "interpreter": {
   "hash": "2caaad894a03422b5251161b15a792b904314ba27a3a9db78b14bb63348f275f"
  },
  "kernelspec": {
   "display_name": "Python 3.9.7 ('pd_scikit')",
   "language": "python",
   "name": "python3"
  },
  "language_info": {
   "codemirror_mode": {
    "name": "ipython",
    "version": 3
   },
   "file_extension": ".py",
   "mimetype": "text/x-python",
   "name": "python",
   "nbconvert_exporter": "python",
   "pygments_lexer": "ipython3",
   "version": "3.9.7"
  },
  "orig_nbformat": 4
 },
 "nbformat": 4,
 "nbformat_minor": 2
}
